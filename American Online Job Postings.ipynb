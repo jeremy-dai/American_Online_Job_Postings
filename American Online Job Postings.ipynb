{
 "cells": [
  {
   "cell_type": "markdown",
   "metadata": {},
   "source": [
    "## Gather\n",
    "The [link]('https://www.kaggle.com/udacity/armenian-online-job-postings/version/1#) to the dataset."
   ]
  },
  {
   "cell_type": "code",
   "execution_count": 1,
   "metadata": {
    "collapsed": true
   },
   "outputs": [],
   "source": [
    "import pandas as pd"
   ]
  },
  {
   "cell_type": "code",
   "execution_count": 2,
   "metadata": {
    "collapsed": true
   },
   "outputs": [],
   "source": [
    "# Read CSV file into DataFrame\n",
    "df = pd.read_csv('data/online-job-postings.csv')"
   ]
  },
  {
   "cell_type": "code",
   "execution_count": 3,
   "metadata": {},
   "outputs": [
    {
     "data": {
      "text/html": [
       "<div>\n",
       "<style>\n",
       "    .dataframe thead tr:only-child th {\n",
       "        text-align: right;\n",
       "    }\n",
       "\n",
       "    .dataframe thead th {\n",
       "        text-align: left;\n",
       "    }\n",
       "\n",
       "    .dataframe tbody tr th {\n",
       "        vertical-align: top;\n",
       "    }\n",
       "</style>\n",
       "<table border=\"1\" class=\"dataframe\">\n",
       "  <thead>\n",
       "    <tr style=\"text-align: right;\">\n",
       "      <th></th>\n",
       "      <th>jobpost</th>\n",
       "      <th>date</th>\n",
       "      <th>Title</th>\n",
       "      <th>Company</th>\n",
       "      <th>AnnouncementCode</th>\n",
       "      <th>Term</th>\n",
       "      <th>Eligibility</th>\n",
       "      <th>Audience</th>\n",
       "      <th>StartDate</th>\n",
       "      <th>Duration</th>\n",
       "      <th>...</th>\n",
       "      <th>Salary</th>\n",
       "      <th>ApplicationP</th>\n",
       "      <th>OpeningDate</th>\n",
       "      <th>Deadline</th>\n",
       "      <th>Notes</th>\n",
       "      <th>AboutC</th>\n",
       "      <th>Attach</th>\n",
       "      <th>Year</th>\n",
       "      <th>Month</th>\n",
       "      <th>IT</th>\n",
       "    </tr>\n",
       "  </thead>\n",
       "  <tbody>\n",
       "    <tr>\n",
       "      <th>0</th>\n",
       "      <td>AMERIA Investment Consulting Company\\r\\nJOB TI...</td>\n",
       "      <td>Jan 5, 2004</td>\n",
       "      <td>Chief Financial Officer</td>\n",
       "      <td>AMERIA Investment Consulting Company</td>\n",
       "      <td>NaN</td>\n",
       "      <td>NaN</td>\n",
       "      <td>NaN</td>\n",
       "      <td>NaN</td>\n",
       "      <td>NaN</td>\n",
       "      <td>NaN</td>\n",
       "      <td>...</td>\n",
       "      <td>NaN</td>\n",
       "      <td>To apply for this position, please submit a\\r\\...</td>\n",
       "      <td>NaN</td>\n",
       "      <td>26 January 2004</td>\n",
       "      <td>NaN</td>\n",
       "      <td>NaN</td>\n",
       "      <td>NaN</td>\n",
       "      <td>2004</td>\n",
       "      <td>1</td>\n",
       "      <td>False</td>\n",
       "    </tr>\n",
       "    <tr>\n",
       "      <th>1</th>\n",
       "      <td>International Research &amp; Exchanges Board (IREX...</td>\n",
       "      <td>Jan 7, 2004</td>\n",
       "      <td>Full-time Community Connections Intern (paid i...</td>\n",
       "      <td>International Research &amp; Exchanges Board (IREX)</td>\n",
       "      <td>NaN</td>\n",
       "      <td>NaN</td>\n",
       "      <td>NaN</td>\n",
       "      <td>NaN</td>\n",
       "      <td>NaN</td>\n",
       "      <td>3 months</td>\n",
       "      <td>...</td>\n",
       "      <td>NaN</td>\n",
       "      <td>Please submit a cover letter and resume to:\\r\\...</td>\n",
       "      <td>NaN</td>\n",
       "      <td>12 January 2004</td>\n",
       "      <td>NaN</td>\n",
       "      <td>The International Research &amp; Exchanges Board (...</td>\n",
       "      <td>NaN</td>\n",
       "      <td>2004</td>\n",
       "      <td>1</td>\n",
       "      <td>False</td>\n",
       "    </tr>\n",
       "    <tr>\n",
       "      <th>2</th>\n",
       "      <td>Caucasus Environmental NGO Network (CENN)\\r\\nJ...</td>\n",
       "      <td>Jan 7, 2004</td>\n",
       "      <td>Country Coordinator</td>\n",
       "      <td>Caucasus Environmental NGO Network (CENN)</td>\n",
       "      <td>NaN</td>\n",
       "      <td>NaN</td>\n",
       "      <td>NaN</td>\n",
       "      <td>NaN</td>\n",
       "      <td>NaN</td>\n",
       "      <td>Renewable annual contract\\r\\nPOSITION</td>\n",
       "      <td>...</td>\n",
       "      <td>NaN</td>\n",
       "      <td>Please send resume or CV toursula.kazarian@......</td>\n",
       "      <td>NaN</td>\n",
       "      <td>20 January 2004\\r\\nSTART DATE:  February 2004</td>\n",
       "      <td>NaN</td>\n",
       "      <td>The Caucasus Environmental NGO Network is a\\r\\...</td>\n",
       "      <td>NaN</td>\n",
       "      <td>2004</td>\n",
       "      <td>1</td>\n",
       "      <td>False</td>\n",
       "    </tr>\n",
       "    <tr>\n",
       "      <th>3</th>\n",
       "      <td>Manoff Group\\r\\nJOB TITLE:  BCC Specialist\\r\\n...</td>\n",
       "      <td>Jan 7, 2004</td>\n",
       "      <td>BCC Specialist</td>\n",
       "      <td>Manoff Group</td>\n",
       "      <td>NaN</td>\n",
       "      <td>NaN</td>\n",
       "      <td>NaN</td>\n",
       "      <td>NaN</td>\n",
       "      <td>NaN</td>\n",
       "      <td>NaN</td>\n",
       "      <td>...</td>\n",
       "      <td>NaN</td>\n",
       "      <td>Please send cover letter and resume to Amy\\r\\n...</td>\n",
       "      <td>NaN</td>\n",
       "      <td>23 January 2004\\r\\nSTART DATE:  Immediate</td>\n",
       "      <td>NaN</td>\n",
       "      <td>NaN</td>\n",
       "      <td>NaN</td>\n",
       "      <td>2004</td>\n",
       "      <td>1</td>\n",
       "      <td>False</td>\n",
       "    </tr>\n",
       "    <tr>\n",
       "      <th>4</th>\n",
       "      <td>Yerevan Brandy Company\\r\\nJOB TITLE:  Software...</td>\n",
       "      <td>Jan 10, 2004</td>\n",
       "      <td>Software Developer</td>\n",
       "      <td>Yerevan Brandy Company</td>\n",
       "      <td>NaN</td>\n",
       "      <td>NaN</td>\n",
       "      <td>NaN</td>\n",
       "      <td>NaN</td>\n",
       "      <td>NaN</td>\n",
       "      <td>NaN</td>\n",
       "      <td>...</td>\n",
       "      <td>NaN</td>\n",
       "      <td>Successful candidates should submit\\r\\n- CV; \\...</td>\n",
       "      <td>NaN</td>\n",
       "      <td>20 January 2004, 18:00</td>\n",
       "      <td>NaN</td>\n",
       "      <td>NaN</td>\n",
       "      <td>NaN</td>\n",
       "      <td>2004</td>\n",
       "      <td>1</td>\n",
       "      <td>True</td>\n",
       "    </tr>\n",
       "  </tbody>\n",
       "</table>\n",
       "<p>5 rows × 24 columns</p>\n",
       "</div>"
      ],
      "text/plain": [
       "                                             jobpost          date  \\\n",
       "0  AMERIA Investment Consulting Company\\r\\nJOB TI...   Jan 5, 2004   \n",
       "1  International Research & Exchanges Board (IREX...   Jan 7, 2004   \n",
       "2  Caucasus Environmental NGO Network (CENN)\\r\\nJ...   Jan 7, 2004   \n",
       "3  Manoff Group\\r\\nJOB TITLE:  BCC Specialist\\r\\n...   Jan 7, 2004   \n",
       "4  Yerevan Brandy Company\\r\\nJOB TITLE:  Software...  Jan 10, 2004   \n",
       "\n",
       "                                               Title  \\\n",
       "0                            Chief Financial Officer   \n",
       "1  Full-time Community Connections Intern (paid i...   \n",
       "2                                Country Coordinator   \n",
       "3                                     BCC Specialist   \n",
       "4                                 Software Developer   \n",
       "\n",
       "                                           Company AnnouncementCode Term  \\\n",
       "0             AMERIA Investment Consulting Company              NaN  NaN   \n",
       "1  International Research & Exchanges Board (IREX)              NaN  NaN   \n",
       "2        Caucasus Environmental NGO Network (CENN)              NaN  NaN   \n",
       "3                                     Manoff Group              NaN  NaN   \n",
       "4                           Yerevan Brandy Company              NaN  NaN   \n",
       "\n",
       "  Eligibility Audience StartDate                               Duration  \\\n",
       "0         NaN      NaN       NaN                                    NaN   \n",
       "1         NaN      NaN       NaN                               3 months   \n",
       "2         NaN      NaN       NaN  Renewable annual contract\\r\\nPOSITION   \n",
       "3         NaN      NaN       NaN                                    NaN   \n",
       "4         NaN      NaN       NaN                                    NaN   \n",
       "\n",
       "   ...   Salary                                       ApplicationP  \\\n",
       "0  ...      NaN  To apply for this position, please submit a\\r\\...   \n",
       "1  ...      NaN  Please submit a cover letter and resume to:\\r\\...   \n",
       "2  ...      NaN  Please send resume or CV toursula.kazarian@......   \n",
       "3  ...      NaN  Please send cover letter and resume to Amy\\r\\n...   \n",
       "4  ...      NaN  Successful candidates should submit\\r\\n- CV; \\...   \n",
       "\n",
       "  OpeningDate                                       Deadline Notes  \\\n",
       "0         NaN                                26 January 2004   NaN   \n",
       "1         NaN                                12 January 2004   NaN   \n",
       "2         NaN  20 January 2004\\r\\nSTART DATE:  February 2004   NaN   \n",
       "3         NaN      23 January 2004\\r\\nSTART DATE:  Immediate   NaN   \n",
       "4         NaN                         20 January 2004, 18:00   NaN   \n",
       "\n",
       "                                              AboutC Attach  Year Month     IT  \n",
       "0                                                NaN    NaN  2004     1  False  \n",
       "1  The International Research & Exchanges Board (...    NaN  2004     1  False  \n",
       "2  The Caucasus Environmental NGO Network is a\\r\\...    NaN  2004     1  False  \n",
       "3                                                NaN    NaN  2004     1  False  \n",
       "4                                                NaN    NaN  2004     1   True  \n",
       "\n",
       "[5 rows x 24 columns]"
      ]
     },
     "execution_count": 3,
     "metadata": {},
     "output_type": "execute_result"
    }
   ],
   "source": [
    "df.head()"
   ]
  },
  {
   "cell_type": "markdown",
   "metadata": {},
   "source": [
    "## Assess\n",
    "- Missing values (NaN)\n",
    "- StartDate inconsistencies (ASAP)\n"
   ]
  },
  {
   "cell_type": "code",
   "execution_count": 4,
   "metadata": {},
   "outputs": [
    {
     "name": "stdout",
     "output_type": "stream",
     "text": [
      "<class 'pandas.core.frame.DataFrame'>\n",
      "RangeIndex: 19001 entries, 0 to 19000\n",
      "Data columns (total 24 columns):\n",
      "jobpost             19001 non-null object\n",
      "date                19001 non-null object\n",
      "Title               18973 non-null object\n",
      "Company             18994 non-null object\n",
      "AnnouncementCode    1208 non-null object\n",
      "Term                7676 non-null object\n",
      "Eligibility         4930 non-null object\n",
      "Audience            640 non-null object\n",
      "StartDate           9675 non-null object\n",
      "Duration            10798 non-null object\n",
      "Location            18969 non-null object\n",
      "JobDescription      15110 non-null object\n",
      "JobRequirment       16479 non-null object\n",
      "RequiredQual        18517 non-null object\n",
      "Salary              9623 non-null object\n",
      "ApplicationP        18941 non-null object\n",
      "OpeningDate         18295 non-null object\n",
      "Deadline            18936 non-null object\n",
      "Notes               2211 non-null object\n",
      "AboutC              12470 non-null object\n",
      "Attach              1559 non-null object\n",
      "Year                19001 non-null int64\n",
      "Month               19001 non-null int64\n",
      "IT                  19001 non-null bool\n",
      "dtypes: bool(1), int64(2), object(21)\n",
      "memory usage: 3.4+ MB\n"
     ]
    }
   ],
   "source": [
    "df.info()"
   ]
  },
  {
   "cell_type": "markdown",
   "metadata": {},
   "source": [
    "- Nondescriptive column headers\n",
    "- A messy (i.e. untidy) dataset"
   ]
  },
  {
   "cell_type": "markdown",
   "metadata": {},
   "source": [
    "## Clean\n",
    "#### Define\n",
    "- Select all nondescriptive and misspelled column headers (ApplicationP, AboutC, RequiredQual, JobRequirment) and replace them with full words (ApplicationProcedure, AboutCompany, RequiredQualifications, JobRequirement)\n",
    "- Select all records in the StartDate column that have \"As soon as possible\", \"Immediately\", etc. and replace the text in those cells with \"ASAP\"\n",
    "\n",
    "#### Code"
   ]
  },
  {
   "cell_type": "code",
   "execution_count": 8,
   "metadata": {
    "collapsed": true
   },
   "outputs": [],
   "source": [
    "df_clean = df.copy()\n",
    "df_clean = df_clean.rename(columns={'ApplicationP': 'ApplicationProcedure',\n",
    "                                    'AboutC': 'AboutCompany',\n",
    "                                    'RequiredQual': 'RequiredQualifications',\n",
    "                                    'JobRequirment': 'JobRequirements'})"
   ]
  },
  {
   "cell_type": "code",
   "execution_count": 18,
   "metadata": {
    "collapsed": true
   },
   "outputs": [],
   "source": [
    "asap_list = ['Immediately', 'As soon as possible', 'Upon hiring',\n",
    "             'Immediate', 'Immediate employment', 'As soon as possible.', 'Immediate job opportunity',\n",
    "             '\"Immediate employment, after passing the interview.\"',\n",
    "             'ASAP preferred', 'Employment contract signature date',\n",
    "             'Immediate employment opportunity', 'Immidiately', 'ASA',\n",
    "             'Asap', '\"The position is open immediately but has a flexible start date depending on the candidates earliest availability.\"',\n",
    "             'Immediately upon agreement', '20 November 2014 or ASAP',\n",
    "             'immediately', 'Immediatelly',\n",
    "             '\"Immediately upon selection or no later than November 15, 2009.\"',\n",
    "             'Immediate job opening', 'Immediate hiring', 'Upon selection',\n",
    "             'As soon as practical', 'Immadiate', 'As soon as posible',\n",
    "             'Immediately with 2 months probation period',\n",
    "             '12 November 2012 or ASAP', 'Immediate employment after passing the interview',\n",
    "             'Immediately/ upon agreement', '01 September 2014 or ASAP',\n",
    "             'Immediately or as per agreement', 'as soon as possible',\n",
    "             'As soon as Possible', 'in the nearest future', 'immediate',\n",
    "             '01 April 2014 or ASAP', 'Immidiatly', 'Urgent',\n",
    "             'Immediate or earliest possible', 'Immediate hire',\n",
    "             'Earliest  possible', 'ASAP with 3 months probation period.',\n",
    "             'Immediate employment opportunity.', 'Immediate employment.',\n",
    "             'Immidietly', 'Imminent', 'September 2014 or ASAP', 'Imediately']\n",
    "\n",
    "for asap in asap_list:\n",
    "    df_clean.StartDate.replace( asap,'ASAP' , inplace=True)"
   ]
  },
  {
   "cell_type": "markdown",
   "metadata": {},
   "source": [
    "#### Test"
   ]
  },
  {
   "cell_type": "code",
   "execution_count": 19,
   "metadata": {},
   "outputs": [
    {
     "data": {
      "text/plain": [
       "(Index(['jobpost', 'date', 'Title', 'Company', 'AnnouncementCode', 'Term',\n",
       "        'Eligibility', 'Audience', 'StartDate', 'Duration', 'Location',\n",
       "        'JobDescription', 'JobRequirements', 'RequiredQualifications', 'Salary',\n",
       "        'ApplicationProcedure', 'OpeningDate', 'Deadline', 'Notes',\n",
       "        'AboutCompany', 'Attach', 'Year', 'Month', 'IT'],\n",
       "       dtype='object'),\n",
       " ASAP                                                                                                                                                         6856\n",
       " 01 September 2012                                                                                                                                              31\n",
       " March 2006                                                                                                                                                     27\n",
       " November 2006                                                                                                                                                  22\n",
       " January 2010                                                                                                                                                   19\n",
       " February 2014                                                                                                                                                  17\n",
       " 01 February 2005                                                                                                                                               17\n",
       " February 2011                                                                                                                                                  16\n",
       " September 2010                                                                                                                                                 16\n",
       " TBD                                                                                                                                                            16\n",
       " September 2008                                                                                                                                                 15\n",
       " March 2011                                                                                                                                                     15\n",
       " February 2007                                                                                                                                                  14\n",
       " 01 February 2015                                                                                                                                               14\n",
       " 01 July 2014                                                                                                                                                   14\n",
       " January 2016                                                                                                                                                   13\n",
       " 01 September 2008                                                                                                                                              13\n",
       " 01 March 2006                                                                                                                                                  13\n",
       " 01 September 2010                                                                                                                                              13\n",
       " June 2008                                                                                                                                                      12\n",
       " 01 March 2012                                                                                                                                                  12\n",
       " Fall 2010                                                                                                                                                      12\n",
       " 01 April 2014                                                                                                                                                  12\n",
       " September 2013                                                                                                                                                 12\n",
       " 01 October 2012                                                                                                                                                12\n",
       " 01 October 2008                                                                                                                                                12\n",
       " 01 November 2007                                                                                                                                               11\n",
       " March 2008                                                                                                                                                     11\n",
       " 01 February 2012                                                                                                                                               11\n",
       " 01 April 2009                                                                                                                                                  11\n",
       "                                                                                                                                                              ... \n",
       " Latest  March 2009                                                                                                                                              1\n",
       " 20 January 2009                                                                                                                                                 1\n",
       " 25 January 2013                                                                                                                                                 1\n",
       " 09 August 2010                                                                                                                                                  1\n",
       " February                                                                                                                                                        1\n",
       " 29 June 2004.  7:30 pm                                                                                                                                          1\n",
       " 01 March 2014 (preferably)                                                                                                                                      1\n",
       " 14 October 2015                                                                                                                                                 1\n",
       " 25 September 2008                                                                                                                                               1\n",
       " 01 May 2005 - 01 May 2006                                                                                                                                       1\n",
       " 28 September 2009                                                                                                                                               1\n",
       " 01 January 2007                                                                                                                                                 1\n",
       " 10 February 2008                                                                                                                                                1\n",
       " Second half of March, 2007                                                                                                                                      1\n",
       " 09 October 2006                                                                                                                                                 1\n",
       " 27 February 2005                                                                                                                                                1\n",
       " End of March                                                                                                                                                    1\n",
       " 07 June 2010                                                                                                                                                    1\n",
       " 16 June 2014                                                                                                                                                    1\n",
       " 16 March 2015                                                                                                                                                   1\n",
       " 01 October  2009                                                                                                                                                1\n",
       " 30 May 2007                                                                                                                                                     1\n",
       " 04 March 2013                                                                                                                                                   1\n",
       " 18 April 2014                                                                                                                                                   1\n",
       " March  2015                                                                                                                                                     1\n",
       " 12 August 2013                                                                                                                                                  1\n",
       " Successful applicants will be periodically employed \\r\\nduring the next 24 months, depending on the need, as part of the DePo\\r\\nprogram funded by USAID.       1\n",
       " July-August 2005                                                                                                                                                1\n",
       " 12 August 2004                                                                                                                                                  1\n",
       " 03 November 2008                                                                                                                                                1\n",
       " Name: StartDate, Length: 1140, dtype: int64)"
      ]
     },
     "execution_count": 19,
     "metadata": {},
     "output_type": "execute_result"
    }
   ],
   "source": [
    "# Check\n",
    "df_clean.columns, df_clean.StartDate.value_counts()"
   ]
  },
  {
   "cell_type": "code",
   "execution_count": 21,
   "metadata": {
    "collapsed": true
   },
   "outputs": [],
   "source": [
    "for asap in asap_list:\n",
    "    assert asap not in df_clean.StartDate.values"
   ]
  },
  {
   "cell_type": "markdown",
   "metadata": {},
   "source": [
    "## Analyze and Visualize"
   ]
  },
  {
   "cell_type": "code",
   "execution_count": 27,
   "metadata": {},
   "outputs": [],
   "source": [
    "#asap counts\n",
    "asap_counts = df_clean.StartDate.value_counts()['ASAP']\n",
    "#non empty counts\n",
    "total = df_clean.StartDate.count()"
   ]
  },
  {
   "cell_type": "code",
   "execution_count": 29,
   "metadata": {},
   "outputs": [
    {
     "name": "stdout",
     "output_type": "stream",
     "text": [
      "Percenrage of jobs with urgent starting date:\n"
     ]
    },
    {
     "data": {
      "text/plain": [
       "0.70863049095607233"
      ]
     },
     "execution_count": 29,
     "metadata": {},
     "output_type": "execute_result"
    }
   ],
   "source": [
    "print('Percenrage of jobs with urgent starting date:')\n",
    "asap_counts/total"
   ]
  },
  {
   "cell_type": "code",
   "execution_count": 38,
   "metadata": {},
   "outputs": [
    {
     "data": {
      "text/plain": [
       "<matplotlib.axes._subplots.AxesSubplot at 0x10da88630>"
      ]
     },
     "execution_count": 38,
     "metadata": {},
     "output_type": "execute_result"
    },
    {
     "data": {
      "image/png": "[encoded data removed]",
      "text/plain": [
       "<matplotlib.figure.Figure at 0x10da7fc18>"
      ]
     },
     "metadata": {},
     "output_type": "display_data"
    }
   ],
   "source": [
    "%matplotlib inline\n",
    "import numpy as np\n",
    "labels = np.full(len(df_clean.StartDate.value_counts()),\"\",dtype=object)\n",
    "labels[0]='ASAP'\n",
    "df_clean.StartDate.value_counts().plot(kind='pie',labels=labels)"
   ]
  },
  {
   "cell_type": "code",
   "execution_count": null,
   "metadata": {
    "collapsed": true
   },
   "outputs": [],
   "source": []
  }
 ],
 "metadata": {
  "kernelspec": {
   "display_name": "Python [default]",
   "language": "python",
   "name": "python3"
  },
  "language_info": {
   "codemirror_mode": {
    "name": "ipython",
    "version": 3
   },
   "file_extension": ".py",
   "mimetype": "text/x-python",
   "name": "python",
   "nbconvert_exporter": "python",
   "pygments_lexer": "ipython3",
   "version": "3.5.3"
  }
 },
 "nbformat": 4,
 "nbformat_minor": 2
}
